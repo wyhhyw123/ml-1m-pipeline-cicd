{
 "cells": [
  {
   "cell_type": "code",
   "execution_count": 2,
   "id": "43b4eb43-418a-463c-bb84-465eae471ae5",
   "metadata": {},
   "outputs": [
    {
     "name": "stderr",
     "output_type": "stream",
     "text": [
      "generated new fontManager\n"
     ]
    }
   ],
   "source": [
    "from modelarts import workflow as wf\n",
    "\n",
    "home_path = wf.data.Storage(name='workspace', title='workflow_workspace')\n",
    "\n",
    "\n",
    "def get_training_job_spec():\n",
    "    return wf.steps.JobSpec(\n",
    "        resource=wf.steps.JobResource(\n",
    "            flavor=wf.Placeholder(\n",
    "                name='training_flavor',\n",
    "                placeholder_type=wf.PlaceholderType.JSON,\n",
    "                description='训练节点规格'\n",
    "            ),\n",
    "            node_count=wf.Placeholder(name='training_node_count', placeholder_type=wf.PlaceholderType.INT, default=1,\n",
    "                                 description='训练节点个数')\n",
    "        )\n",
    "    )\n",
    "\n",
    "def process_data(home_path, depend_steps=None):\n",
    "    training_job_code_path = home_path.join('code/')\n",
    "    training_job_boot_file = home_path.join('code/data_process.py')\n",
    "\n",
    "    return wf.steps.JobStep(\n",
    "        name='process_data',\n",
    "        title='process_data',\n",
    "        algorithm=wf.BaseAlgorithm(\n",
    "            code_dir=training_job_code_path,\n",
    "            boot_file=training_job_boot_file,\n",
    "            engine=wf.steps.JobEngine(engine_name='TensorFlow', engine_version='tensorflow_2.1.0-cuda_10.1-py_3.7-ubuntu_18.04-x86_64'),\n",
    "            parameters=[\n",
    "                wf.AlgorithmParameters(name='input_path', value='obs://shp-cn4/wyh_test/pipeline_cicd/ml-1m/raw_data'),\n",
    "                wf.AlgorithmParameters(name='output_path', value='obs://shp-cn4/wyh_test/pipeline_cicd/ml-1m/output')]\n",
    "        ),\n",
    "        depend_steps=depend_steps,\n",
    "        spec=get_training_job_spec()\n",
    "    )"
   ]
  },
  {
   "cell_type": "code",
   "execution_count": 3,
   "id": "ccb425a3-9d12-416f-904f-429920d144f8",
   "metadata": {},
   "outputs": [],
   "source": [
    "\n",
    "\n",
    "def train_model(home_path, depend_steps=None):\n",
    "    # 代码路径\n",
    "    training_job_code_path = home_path.join('code/')\n",
    "    training_job_boot_file = home_path.join('code/train_model.py')\n",
    "\n",
    "    return wf.steps.JobStep(\n",
    "        name='train_model',\n",
    "        title='train_model',\n",
    "        algorithm=wf.BaseAlgorithm(\n",
    "            code_dir=training_job_code_path,\n",
    "            boot_file=training_job_boot_file,\n",
    "            engine=wf.steps.JobEngine(engine_name='TensorFlow', engine_version='tensorflow_2.1.0-cuda_10.1-py_3.7-ubuntu_18.04-x86_64'),\n",
    "            parameters=[\n",
    "                wf.AlgorithmParameters(name='input_path', value='obs://shp-cn4/wyh_test/pipeline_cicd/ml-1m/output'),\n",
    "                wf.AlgorithmParameters(name='output_path', value='obs://shp-cn4/wyh_test/pipeline_cicd/ml-1m/output')]\n",
    "        ),\n",
    "        depend_steps=depend_steps,\n",
    "        spec=get_training_job_spec()\n",
    "    )"
   ]
  },
  {
   "cell_type": "code",
   "execution_count": 4,
   "id": "ddc27dfc-2d19-45a6-b9b5-b63fcb6f1e3b",
   "metadata": {},
   "outputs": [
    {
     "name": "stderr",
     "output_type": "stream",
     "text": [
      "start releasing Workflow ml-1m-mlops\n",
      "Workflow ml-1m-mlops successfully released, and workflow ID is 148dc954-7c4f-479b-8fd5-2888434dfdd7\n"
     ]
    },
    {
     "data": {
      "text/plain": [
       "'148dc954-7c4f-479b-8fd5-2888434dfdd7'"
      ]
     },
     "execution_count": 4,
     "metadata": {},
     "output_type": "execute_result"
    }
   ],
   "source": [
    "\n",
    "process_data_job = process_data(home_path)\n",
    "train_model_job = train_model(home_path, depend_steps=[process_data_job])\n",
    "\n",
    "workflow = wf.Workflow(\n",
    "    name='ml-1m-mlops',\n",
    "    desc='ml-1m-mlops',\n",
    "    steps=[\n",
    "        process_data_job,\n",
    "        train_model_job\n",
    "    ],\n",
    "    storages=[home_path])\n",
    "\n",
    "workflow.release()"
   ]
  },
  {
   "cell_type": "code",
   "execution_count": null,
   "id": "3b92b2d3-2c0f-4e73-a25a-af4c4304c337",
   "metadata": {},
   "outputs": [],
   "source": []
  },
  {
   "cell_type": "code",
   "execution_count": null,
   "id": "29bfe42c-2c70-4d7a-b734-90bf9fc82e12",
   "metadata": {},
   "outputs": [],
   "source": []
  },
  {
   "cell_type": "code",
   "execution_count": 1,
   "id": "6c49c98e-cbd5-4b80-b3be-09ea5c2d4a30",
   "metadata": {},
   "outputs": [
    {
     "name": "stderr",
     "output_type": "stream",
     "text": [
      "/home/ma-user/anaconda3/envs/PyTorch-1.8/lib/python3.7/site-packages/requests/__init__.py:104: RequestsDependencyWarning: urllib3 (1.26.12) or chardet (5.0.0)/charset_normalizer (2.0.12) doesn't match a supported version!\n",
      "  RequestsDependencyWarning)\n",
      "100%|██████████| 11/11 [00:01<00:00,  9.50it/s]\n"
     ]
    }
   ],
   "source": [
    "from modelarts.session import Session\n",
    "sess = Session()\n",
    "sess.obs.copy(\"/home/ma-user/work/ml-1m\", \"obs://shp-cn4/wyh_test/pipeline_cicd\")"
   ]
  },
  {
   "cell_type": "code",
   "execution_count": null,
   "id": "afd270fd-4ae5-4b2f-b6e0-666830183a2a",
   "metadata": {},
   "outputs": [],
   "source": []
  }
 ],
 "metadata": {
  "kernelspec": {
   "display_name": "PyTorch-1.8",
   "language": "python",
   "name": "pytorch-1.8"
  },
  "language_info": {
   "codemirror_mode": {
    "name": "ipython",
    "version": 3
   },
   "file_extension": ".py",
   "mimetype": "text/x-python",
   "name": "python",
   "nbconvert_exporter": "python",
   "pygments_lexer": "ipython3",
   "version": "3.7.10"
  }
 },
 "nbformat": 4,
 "nbformat_minor": 5
}
